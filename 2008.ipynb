{
 "cells": [
  {
   "cell_type": "markdown",
   "id": "b7e1e2a6-f8d9-4b90-be36-f8795bf24e5b",
   "metadata": {},
   "source": [
    "# Озоновый слой Земли (О.С. Угольников, 2008-11-3)\n",
    "The table shows the results of measuring the brightness of the background of a clear daytime sky in relative units (their own for each of the wavelengths) at the zenith at different positions of the Sun above the horizon for three wavelengths located on the long-wavelength edge of the Heggins bands of atmospheric ozone absorption ( $\\left.\\mathrm{O}_3\\right)$ . Considering that the background of the daytime sky is formed by the scattering of sunlight in the lower layers of the atmosphere (under the ozone layer), and the scattering properties smoothly depend on the wavelength, determine the total ozone content (OCO) in the column of the atmosphere above the observer. Express it as the thickness of the pure ozone layer at normal atmospheric pressure $\\left(1.014 \\cdot 10^5\\right.$ P) and temperature $0^{\\circ}\\mathrm{C}$. The values of the cross section (effective area) of absorption of one ozone molecule in each of the three wavelengths are also shown in the table.\n",
    "$$\n",
    "\\begin{array}{||c|c|c|c||}\n",
    "\\hline \n",
    "\\text{The height of the sun,}\n",
    " &  &\\text{Photometer readings} & \\\\\n",
    "\\text{degrees}& 3100 \\mathring{\\mathrm{A}} & 3500  \\mathring{\\mathrm{A}} & 3900  \\mathring{\\mathrm{A}} \\\\\n",
    "\\hline 31.5 & 487.6 & 2005.7 & 1158.1 \\\\\n",
    "33.3 & 567.3 & 2166.7 & 1281.6 \\\\\n",
    "33.6 & 576.3 & 2195.4 & 1304.2 \\\\\n",
    "34.6 & 629.5 & 2296.2 & 1379.6 \\\\\n",
    "36.4 & 712.0 & 2440.1 & 1479.9 \\\\\n",
    "38.2 & 801.4 & 2600.3 & 1591.4 \\\\\n",
    "39.2 & 862.4 & 2716.5 & 1673.5 \\\\\n",
    "41.0 & 953.8 & 2840.8 & 1751.2 \\\\\n",
    "43.1 & 1079.9 & 3048.9 & 1880.6 \\\\\n",
    "44.9 & 1186.7 & 3209.4 & 1969.2 \\\\\n",
    "46.1 & 1260.6 & 3324.4 & 2038.0 \\\\\n",
    "47.8 & 1374.2 & 3480.0 & 2119.6 \\\\\n",
    "49.5 & 1496.6 & 3654.4 & 2226.4 \\\\\n",
    "\\hline \\text{section} & & & \\\\\n",
    "\\text{acquisitions} & 1.0 \\cdot 10^{-23} & 3.9 \\cdot 10^{-26} & 1.0 \\cdot 10^{-26} \\\\\n",
    "\\text{molecules} ~~\\mathrm{O}_3, ~~м ^2 & & & \\\\\n",
    "\\hline \\hline\n",
    "\\end{array}\n",
    "$$"
   ]
  },
  {
   "cell_type": "code",
   "execution_count": 2,
   "id": "566119dd-974c-4d41-9c1b-9a46207899d6",
   "metadata": {},
   "outputs": [],
   "source": [
    "\n",
    "wl=\t'''3100\"Å\"\t3500\"Å\"\t3900\"Å\"'''\n",
    "data = '''\n",
    "31.5\t487.6\t2005.7\t1158.1\n",
    "33.3\t567.3\t2166.7\t1281.6\n",
    "33.6\t576.3\t2195.4\t1304.2\n",
    "34.6\t629.5\t2296.2\t1379.6\n",
    "36.4\t712.0\t2440.1\t1479.9\n",
    "38.2\t801.4\t2600.3\t1591.4\n",
    "39.2\t862.4\t2716.5\t1673.5\n",
    "41.0\t953.8\t2840.8\t1751.2\n",
    "43.1\t1079.9\t3048.9\t1880.6\n",
    "44.9\t1186.7\t3209.4\t1969.2\n",
    "46.1\t1260.6\t3324.4\t2038.0\n",
    "47.8\t1374.2\t3480.0\t2119.6\n",
    "49.5\t1496.6\t3654.4\t2226.4\n",
    "'''\n",
    "'Сечение\tпоглощения\tмолекулы O_(3) м ^(2)'\t\n",
    "sigma='1.0*10^(-23)\t3.9*10^(-26)\t1.0*10^(-26)'\n",
    "\t"
   ]
  },
  {
   "cell_type": "code",
   "execution_count": 10,
   "id": "3ff1200d-ffae-4a39-bb24-4d05393dfca9",
   "metadata": {},
   "outputs": [
    {
     "data": {
      "text/plain": [
       "array([[  31.5,  487.6, 2005.7, 1158.1],\n",
       "       [  33.3,  567.3, 2166.7, 1281.6],\n",
       "       [  33.6,  576.3, 2195.4, 1304.2],\n",
       "       [  34.6,  629.5, 2296.2, 1379.6],\n",
       "       [  36.4,  712. , 2440.1, 1479.9],\n",
       "       [  38.2,  801.4, 2600.3, 1591.4],\n",
       "       [  39.2,  862.4, 2716.5, 1673.5],\n",
       "       [  41. ,  953.8, 2840.8, 1751.2],\n",
       "       [  43.1, 1079.9, 3048.9, 1880.6],\n",
       "       [  44.9, 1186.7, 3209.4, 1969.2],\n",
       "       [  46.1, 1260.6, 3324.4, 2038. ],\n",
       "       [  47.8, 1374.2, 3480. , 2119.6],\n",
       "       [  49.5, 1496.6, 3654.4, 2226.4]])"
      ]
     },
     "execution_count": 10,
     "metadata": {},
     "output_type": "execute_result"
    }
   ],
   "source": [
    "lines = data.split('\\n')\n",
    "items = [line.split('\\t') for line in lines]\n",
    "items = []\n",
    "for line in lines:\n",
    "    items.append(line.split('\\t'))\n",
    "# items    \n",
    "import numpy as np\n",
    "np.asarray(items[1:-1]).astype(float)"
   ]
  },
  {
   "cell_type": "code",
   "execution_count": 25,
   "id": "e36f55d8-6c6b-49bf-80f9-37ccdbd5286b",
   "metadata": {},
   "outputs": [],
   "source": [
    "from io import StringIO\n",
    "import pandas as pd\n",
    "\n",
    "df = pd.read_csv(StringIO(data), sep=\"\\t\", header=None)"
   ]
  },
  {
   "cell_type": "code",
   "execution_count": 31,
   "id": "e7cb49de-1762-470c-a91d-4c589a07d4d1",
   "metadata": {},
   "outputs": [],
   "source": [
    "# help(pd.read_csv)\n",
    "# df[0]"
   ]
  },
  {
   "cell_type": "markdown",
   "id": "2b75a923-a818-4f17-a9aa-921edca4d878",
   "metadata": {},
   "source": [
    "$\\tau = n \\sigma l = n \\sigma \\sec(z)$"
   ]
  },
  {
   "cell_type": "markdown",
   "id": "d787c12f-281e-47ff-adf6-e6cf44733fe0",
   "metadata": {},
   "source": [
    "$I = I_0 e^{-n\\sigma \\sec(z)}$"
   ]
  },
  {
   "cell_type": "markdown",
   "id": "eb90800a-58f5-46a7-94af-828d7a43460d",
   "metadata": {},
   "source": [
    "$\\ln I = \\ln I_0 -\\ln e \\cdot (n\\sigma \\sec(z))$"
   ]
  },
  {
   "cell_type": "markdown",
   "id": "9af68b92-f27d-4851-9c29-a3dd02560b1a",
   "metadata": {},
   "source": [
    "$\\ln I - \\ln I_0 =-1 \\cdot(n\\sigma \\sec(z))$"
   ]
  },
  {
   "cell_type": "code",
   "execution_count": 67,
   "id": "58e63093-6fee-44b3-8815-415ee7c6079f",
   "metadata": {},
   "outputs": [],
   "source": [
    "absorbtion = (np.log(df[2])+(np.log(df[2])-np.log(df[3])))-np.log(df[1])\n",
    "2 + (2-3) - 1\n",
    "(2-1) - (3 -2)\n"
   ]
  },
  {
   "cell_type": "code",
   "execution_count": 76,
   "id": "5591f742-5a0e-4efe-8d94-ea7fe2c96460",
   "metadata": {},
   "outputs": [
    {
     "data": {
      "text/plain": [
       "Text(0, 0.5, '$\\\\ln(A_{O_3})$')"
      ]
     },
     "execution_count": 76,
     "metadata": {},
     "output_type": "execute_result"
    },
    {
     "data": {
      "image/png": "[encoded data removed]",
      "text/plain": [
       "<Figure size 640x480 with 1 Axes>"
      ]
     },
     "metadata": {},
     "output_type": "display_data"
    }
   ],
   "source": [
    "import matplotlib.pyplot as plt\n",
    "sec_z = 1/np.cos((90-df[0])/180*np.pi)\n",
    "plt.plot(sec_z, absorbtion,'.')\n",
    "p = np.polyfit(sec_z, absorbtion, 1)\n",
    "ab_pred = np.polyval(p, np.append(sec_z,1))\n",
    "plt.plot(np.append(sec_z,1), ab_pred)\n",
    "plt.title('График логарифма поглощения озона от sec(z)')\n",
    "plt.xlabel('sec(z)')\n",
    "plt.ylabel('$\\ln(A_{O_3})$')"
   ]
  },
  {
   "cell_type": "code",
   "execution_count": 80,
   "id": "030d3dcb-347a-4a2a-a865-8448e5253ed5",
   "metadata": {},
   "outputs": [
    {
     "data": {
      "text/plain": [
       "[<matplotlib.lines.Line2D at 0x7f57cafd41d0>]"
      ]
     },
     "execution_count": 80,
     "metadata": {},
     "output_type": "execute_result"
    },
    {
     "data": {
      "image/png": "[encoded data removed]",
      "text/plain": [
       "<Figure size 640x480 with 1 Axes>"
      ]
     },
     "metadata": {},
     "output_type": "display_data"
    }
   ],
   "source": [
    "plt.plot(sec_z, absorbtion-ab_pred[:-1],'.')"
   ]
  },
  {
   "cell_type": "code",
   "execution_count": 73,
   "id": "c32b4e61-b012-4a6f-ac88-fe5011b01c6b",
   "metadata": {},
   "outputs": [],
   "source": [
    "tau = p[0]+p[1]\n",
    "\n",
    "k = np.sum(sec_z*absorbtion)/np.sum(sec_z**2)\n",
    "tau = k\n",
    "# p"
   ]
  },
  {
   "cell_type": "code",
   "execution_count": 60,
   "id": "3ccc53c1-ccaf-4ee1-b7a6-2a8ffcb84ad9",
   "metadata": {},
   "outputs": [],
   "source": [
    "# 2.5*np.log10(np.e)"
   ]
  },
  {
   "cell_type": "markdown",
   "id": "55b6d60e-b8a8-4209-a0e1-bcabdb5499ed",
   "metadata": {},
   "source": [
    "$\\tau = n \\sigma l$"
   ]
  },
  {
   "cell_type": "markdown",
   "id": "2dcf8a1b-ddf7-461c-9164-b8b01531b592",
   "metadata": {},
   "source": [
    "$N = nV  = nSl$"
   ]
  },
  {
   "cell_type": "markdown",
   "id": "2f8ad5a0-129a-46d8-add9-3b3fc0830603",
   "metadata": {},
   "source": [
    "$N/S = nl = \\tau/\\sigma$"
   ]
  },
  {
   "cell_type": "code",
   "execution_count": 74,
   "id": "01770219-dd8d-488e-9bf3-34d2d4168cd3",
   "metadata": {},
   "outputs": [],
   "source": [
    "sigma = 1e-23\n",
    "N = tau/sigma"
   ]
  },
  {
   "cell_type": "markdown",
   "id": "3a1d086f-3dbf-497a-b961-97a24d7b7896",
   "metadata": {},
   "source": [
    "$pV = \\frac{M}{\\mu} RT$"
   ]
  },
  {
   "cell_type": "markdown",
   "id": "f2cf8c69-44b9-4a3a-a633-7121635f6d65",
   "metadata": {},
   "source": [
    "$p =\\frac{\\rho}{\\mu} RT$"
   ]
  },
  {
   "cell_type": "markdown",
   "id": "fbce635c-e234-49e0-8180-25662b0f5e20",
   "metadata": {},
   "source": [
    "$\\rho =\\frac{p\\mu}{RT}$"
   ]
  },
  {
   "cell_type": "markdown",
   "id": "5c0bec7f-35dd-45a5-a15d-e9ae04b41189",
   "metadata": {},
   "source": [
    "$$h = \\frac{N m_0}{\\mu pS} RT$$"
   ]
  },
  {
   "cell_type": "code",
   "execution_count": 75,
   "id": "320fe82d-6d2f-4faa-a0c9-6872cc9cc428",
   "metadata": {},
   "outputs": [
    {
     "data": {
      "text/plain": [
       "3.897019336267303"
      ]
     },
     "execution_count": 75,
     "metadata": {},
     "output_type": "execute_result"
    }
   ],
   "source": [
    "(N/(6.02e23*1e5)*8.31*273)*1e3"
   ]
  },
  {
   "cell_type": "code",
   "execution_count": null,
   "id": "881cde66-03b1-42f2-aab1-fa0b791b5054",
   "metadata": {},
   "outputs": [],
   "source": []
  }
 ],
 "metadata": {
  "kernelspec": {
   "display_name": "Python 3 (ipykernel)",
   "language": "python",
   "name": "python3"
  },
  "language_info": {
   "codemirror_mode": {
    "name": "ipython",
    "version": 3
   },
   "file_extension": ".py",
   "mimetype": "text/x-python",
   "name": "python",
   "nbconvert_exporter": "python",
   "pygments_lexer": "ipython3",
   "version": "3.11.3"
  }
 },
 "nbformat": 4,
 "nbformat_minor": 5
}
